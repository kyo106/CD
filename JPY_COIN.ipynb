{
  "nbformat": 4,
  "nbformat_minor": 0,
  "metadata": {
    "colab": {
      "provenance": [],
      "authorship_tag": "ABX9TyOERClI5ZQ4+dmJ+Cme/dFg",
      "include_colab_link": true
    },
    "kernelspec": {
      "name": "python3",
      "display_name": "Python 3"
    },
    "language_info": {
      "name": "python"
    }
  },
  "cells": [
    {
      "cell_type": "markdown",
      "metadata": {
        "id": "view-in-github",
        "colab_type": "text"
      },
      "source": [
        "<a href=\"https://colab.research.google.com/github/kyo106/CD/blob/master/JPY_COIN.ipynb\" target=\"_parent\"><img src=\"https://colab.research.google.com/assets/colab-badge.svg\" alt=\"Open In Colab\"/></a>"
      ]
    },
    {
      "cell_type": "code",
      "source": [
        "import time\n",
        "from urllib import request, parse\n",
        "from bs4 import BeautifulSoup as sp\n",
        "from datetime import datetime\n",
        "import pytz\n",
        "\n",
        "# 設定價格\n",
        "set_price = \"0.2106\"  # 到價通知\n",
        "# Line Notify Token\n",
        "token = 'ELpKx37fme1OFmXex4nbVa20bRJZlrRUamZNpeGb9de'\n",
        "\n",
        "def send_line_notify(message, token):\n",
        "    url = \"https://notify-api.line.me/api/notify\"\n",
        "    headers = {\n",
        "        \"Authorization\": f\"Bearer {token}\",\n",
        "        \"Content-Type\": \"application/x-www-form-urlencoded\"\n",
        "    }\n",
        "    data = {\"message\": message}\n",
        "    data = parse.urlencode(data).encode()\n",
        "    req = request.Request(url, data=data, headers=headers)\n",
        "    with request.urlopen(req) as response:\n",
        "        res = response.read().decode(\"utf-8\")\n",
        "    print(f\"Line Notify 回應: {res}\")\n",
        "\n",
        "# standard function\n",
        "def standard(jpy_out, note):\n",
        "    if jpy_out == set_price:\n",
        "        send_line_notify(note, token)  # 將 note 發送\n",
        "    else:\n",
        "        print(f\"未達設定價格: 當前價格 {jpy_out}，設定價格 {set_price}\")\n",
        "\n",
        "# main function\n",
        "def main():\n",
        "    tz = pytz.timezone('Asia/Taipei')\n",
        "    while True:\n",
        "        current_time = datetime.now(tz)\n",
        "        current_hour = current_time.hour\n",
        "        if 9 <= current_hour < 16:  # 只在早上9點到下午4點之間檢查\n",
        "            local_time = current_time.ctime()\n",
        "            url = \"https://rate.bot.com.tw/xrt?Lang=zh-TW\"\n",
        "            with request.urlopen(url) as response:\n",
        "                data = response.read().decode(\"utf-8\")\n",
        "            root = sp(data, \"html.parser\")\n",
        "            jpy_in = root.find_all(\"td\")[78].text.replace(\"買進\", \"\").strip()\n",
        "            jpy_out = root.find_all(\"td\")[79].text.replace(\"回售\", \"\").strip()\n",
        "            s1 = f\"\\njpy\\n銀行買進: {jpy_in}\\n銀行賣出: {jpy_out}\\nBy Bruno\"  # 在銀行賣出價格後加上 \"By Bruno\"\n",
        "            note = local_time + s1\n",
        "            print(f\"當前時間: {local_time}\")\n",
        "            print(f\"銀行買進價格: {jpy_in}, 銀行賣出價格: {jpy_out}\")\n",
        "            standard(jpy_out, note)\n",
        "        else:\n",
        "            print(\"非檢查時間段內，暫停檢查\")\n",
        "        time.sleep(3600)  # 每小時檢查一次\n",
        "\n",
        "if __name__ == \"__main__\":\n",
        "    main()\n"
      ],
      "metadata": {
        "id": "Uiye35apxYub",
        "outputId": "ce52d574-40e8-4e84-d53e-9a948bb61887",
        "colab": {
          "base_uri": "https://localhost:8080/",
          "height": 327
        }
      },
      "execution_count": 2,
      "outputs": [
        {
          "output_type": "stream",
          "name": "stdout",
          "text": [
            "非檢查時間段內，暫停檢查\n"
          ]
        },
        {
          "output_type": "error",
          "ename": "KeyboardInterrupt",
          "evalue": "",
          "traceback": [
            "\u001b[0;31m---------------------------------------------------------------------------\u001b[0m",
            "\u001b[0;31mKeyboardInterrupt\u001b[0m                         Traceback (most recent call last)",
            "\u001b[0;32m<ipython-input-2-f56ce058f5c1>\u001b[0m in \u001b[0;36m<cell line: 55>\u001b[0;34m()\u001b[0m\n\u001b[1;32m     54\u001b[0m \u001b[0;34m\u001b[0m\u001b[0m\n\u001b[1;32m     55\u001b[0m \u001b[0;32mif\u001b[0m \u001b[0m__name__\u001b[0m \u001b[0;34m==\u001b[0m \u001b[0;34m\"__main__\"\u001b[0m\u001b[0;34m:\u001b[0m\u001b[0;34m\u001b[0m\u001b[0;34m\u001b[0m\u001b[0m\n\u001b[0;32m---> 56\u001b[0;31m     \u001b[0mmain\u001b[0m\u001b[0;34m(\u001b[0m\u001b[0;34m)\u001b[0m\u001b[0;34m\u001b[0m\u001b[0;34m\u001b[0m\u001b[0m\n\u001b[0m",
            "\u001b[0;32m<ipython-input-2-f56ce058f5c1>\u001b[0m in \u001b[0;36mmain\u001b[0;34m()\u001b[0m\n\u001b[1;32m     51\u001b[0m         \u001b[0;32melse\u001b[0m\u001b[0;34m:\u001b[0m\u001b[0;34m\u001b[0m\u001b[0;34m\u001b[0m\u001b[0m\n\u001b[1;32m     52\u001b[0m             \u001b[0mprint\u001b[0m\u001b[0;34m(\u001b[0m\u001b[0;34m\"非檢查時間段內，暫停檢查\"\u001b[0m\u001b[0;34m)\u001b[0m\u001b[0;34m\u001b[0m\u001b[0;34m\u001b[0m\u001b[0m\n\u001b[0;32m---> 53\u001b[0;31m         \u001b[0mtime\u001b[0m\u001b[0;34m.\u001b[0m\u001b[0msleep\u001b[0m\u001b[0;34m(\u001b[0m\u001b[0;36m3600\u001b[0m\u001b[0;34m)\u001b[0m  \u001b[0;31m# 每小時檢查一次\u001b[0m\u001b[0;34m\u001b[0m\u001b[0;34m\u001b[0m\u001b[0m\n\u001b[0m\u001b[1;32m     54\u001b[0m \u001b[0;34m\u001b[0m\u001b[0m\n\u001b[1;32m     55\u001b[0m \u001b[0;32mif\u001b[0m \u001b[0m__name__\u001b[0m \u001b[0;34m==\u001b[0m \u001b[0;34m\"__main__\"\u001b[0m\u001b[0;34m:\u001b[0m\u001b[0;34m\u001b[0m\u001b[0;34m\u001b[0m\u001b[0m\n",
            "\u001b[0;31mKeyboardInterrupt\u001b[0m: "
          ]
        }
      ]
    }
  ]
}