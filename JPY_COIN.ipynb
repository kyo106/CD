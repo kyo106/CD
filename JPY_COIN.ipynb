{
  "nbformat": 4,
  "nbformat_minor": 0,
  "metadata": {
    "colab": {
      "provenance": [],
      "authorship_tag": "ABX9TyP3CKmrssdATarYK3fVJlKH",
      "include_colab_link": true
    },
    "kernelspec": {
      "name": "python3",
      "display_name": "Python 3"
    },
    "language_info": {
      "name": "python"
    }
  },
  "cells": [
    {
      "cell_type": "markdown",
      "metadata": {
        "id": "view-in-github",
        "colab_type": "text"
      },
      "source": [
        "<a href=\"https://colab.research.google.com/github/kyo106/CD/blob/master/JPY_COIN.ipynb\" target=\"_parent\"><img src=\"https://colab.research.google.com/assets/colab-badge.svg\" alt=\"Open In Colab\"/></a>"
      ]
    },
    {
      "cell_type": "code",
      "source": [
        "import time\n",
        "from urllib import request, parse\n",
        "from bs4 import BeautifulSoup as sp\n",
        "\n",
        "# 設定價格\n",
        "set_price = \"0.2106\"  # 到價通知\n",
        "# Line Notify Token\n",
        "token = 'ELpKx37fme1OFmXex4nbVa20bRJZlrRUamZNpeGb9de'\n",
        "\n",
        "def send_line_notify(message, token):\n",
        "    url = \"https://notify-api.line.me/api/notify\"\n",
        "    headers = {\n",
        "        \"Authorization\": f\"Bearer {token}\",\n",
        "        \"Content-Type\": \"application/x-www-form-urlencoded\"\n",
        "    }\n",
        "    data = {\"message\": message}\n",
        "    data = parse.urlencode(data).encode()\n",
        "    req = request.Request(url, data=data, headers=headers)\n",
        "    with request.urlopen(req) as response:\n",
        "        res = response.read().decode(\"utf-8\")\n",
        "    print(f\"Line Notify 回應: {res}\")\n",
        "\n",
        "# standard function\n",
        "def standard(jpy_out, note):\n",
        "    if jpy_out == set_price:\n",
        "        send_line_notify(note, token)  # 將 note 發送\n",
        "    else:\n",
        "        print(f\"未達設定價格: 當前價格 {jpy_out}，設定價格 {set_price}\")\n",
        "\n",
        "# main function\n",
        "def main():\n",
        "    while True:\n",
        "        local_time = time.ctime(time.time())\n",
        "        url = \"https://rate.bot.com.tw/xrt?Lang=zh-TW\"\n",
        "        with request.urlopen(url) as response:\n",
        "            data = response.read().decode(\"utf-8\")\n",
        "        root = sp(data, \"html.parser\")\n",
        "        jpy_in = root.find_all(\"td\")[78].text.replace(\"買進\", \"\").strip()\n",
        "        jpy_out = root.find_all(\"td\")[79].text.replace(\"回售\", \"\").strip()\n",
        "        s1 = f\"\\njpy\\n銀行買進: {jpy_in}\\n銀行賣出: {jpy_out}\\nBy Bruno\"  # 在銀行賣出價格後加上 \"By Bruno\"\n",
        "        note = local_time + s1\n",
        "        print(f\"當前時間: {local_time}\")\n",
        "        print(f\"銀行買進價格: {jpy_in}, 銀行賣出價格: {jpy_out}\")\n",
        "        standard(jpy_out, note)\n",
        "        time.sleep(3600)  # 每小時檢查一次\n",
        "\n",
        "if __name__ == \"__main__\":\n",
        "    main()\n"
      ],
      "metadata": {
        "colab": {
          "base_uri": "https://localhost:8080/",
          "height": 349
        },
        "id": "EZE8emSqGrke",
        "outputId": "2d58d162-b59c-44be-b06f-36f778c11bf6"
      },
      "execution_count": 13,
      "outputs": [
        {
          "output_type": "stream",
          "name": "stdout",
          "text": [
            "當前時間: Thu Jun  6 10:31:44 2024\n",
            "銀行買進價格: 0.1978, 銀行賣出價格: 0.2106\n",
            "Line Notify 回應: {\"status\":200,\"message\":\"ok\"}\n"
          ]
        },
        {
          "output_type": "error",
          "ename": "KeyboardInterrupt",
          "evalue": "",
          "traceback": [
            "\u001b[0;31m---------------------------------------------------------------------------\u001b[0m",
            "\u001b[0;31mKeyboardInterrupt\u001b[0m                         Traceback (most recent call last)",
            "\u001b[0;32m<ipython-input-13-8de1d59ce135>\u001b[0m in \u001b[0;36m<cell line: 47>\u001b[0;34m()\u001b[0m\n\u001b[1;32m     46\u001b[0m \u001b[0;34m\u001b[0m\u001b[0m\n\u001b[1;32m     47\u001b[0m \u001b[0;32mif\u001b[0m \u001b[0m__name__\u001b[0m \u001b[0;34m==\u001b[0m \u001b[0;34m\"__main__\"\u001b[0m\u001b[0;34m:\u001b[0m\u001b[0;34m\u001b[0m\u001b[0;34m\u001b[0m\u001b[0m\n\u001b[0;32m---> 48\u001b[0;31m     \u001b[0mmain\u001b[0m\u001b[0;34m(\u001b[0m\u001b[0;34m)\u001b[0m\u001b[0;34m\u001b[0m\u001b[0;34m\u001b[0m\u001b[0m\n\u001b[0m",
            "\u001b[0;32m<ipython-input-13-8de1d59ce135>\u001b[0m in \u001b[0;36mmain\u001b[0;34m()\u001b[0m\n\u001b[1;32m     43\u001b[0m         \u001b[0mprint\u001b[0m\u001b[0;34m(\u001b[0m\u001b[0;34mf\"銀行買進價格: {jpy_in}, 銀行賣出價格: {jpy_out}\"\u001b[0m\u001b[0;34m)\u001b[0m\u001b[0;34m\u001b[0m\u001b[0;34m\u001b[0m\u001b[0m\n\u001b[1;32m     44\u001b[0m         \u001b[0mstandard\u001b[0m\u001b[0;34m(\u001b[0m\u001b[0mjpy_out\u001b[0m\u001b[0;34m,\u001b[0m \u001b[0mnote\u001b[0m\u001b[0;34m)\u001b[0m\u001b[0;34m\u001b[0m\u001b[0;34m\u001b[0m\u001b[0m\n\u001b[0;32m---> 45\u001b[0;31m         \u001b[0mtime\u001b[0m\u001b[0;34m.\u001b[0m\u001b[0msleep\u001b[0m\u001b[0;34m(\u001b[0m\u001b[0;36m3600\u001b[0m\u001b[0;34m)\u001b[0m  \u001b[0;31m# 每小時檢查一次\u001b[0m\u001b[0;34m\u001b[0m\u001b[0;34m\u001b[0m\u001b[0m\n\u001b[0m\u001b[1;32m     46\u001b[0m \u001b[0;34m\u001b[0m\u001b[0m\n\u001b[1;32m     47\u001b[0m \u001b[0;32mif\u001b[0m \u001b[0m__name__\u001b[0m \u001b[0;34m==\u001b[0m \u001b[0;34m\"__main__\"\u001b[0m\u001b[0;34m:\u001b[0m\u001b[0;34m\u001b[0m\u001b[0;34m\u001b[0m\u001b[0m\n",
            "\u001b[0;31mKeyboardInterrupt\u001b[0m: "
          ]
        }
      ]
    }
  ]
}