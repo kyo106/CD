{
  "nbformat": 4,
  "nbformat_minor": 0,
  "metadata": {
    "colab": {
      "provenance": [],
      "authorship_tag": "ABX9TyO5RQgF9iRDUBGB7m3GPCE7",
      "include_colab_link": true
    },
    "kernelspec": {
      "name": "python3",
      "display_name": "Python 3"
    },
    "language_info": {
      "name": "python"
    }
  },
  "cells": [
    {
      "cell_type": "markdown",
      "metadata": {
        "id": "view-in-github",
        "colab_type": "text"
      },
      "source": [
        "<a href=\"https://colab.research.google.com/github/kyo106/CD/blob/master/%E3%80%8CJPY_COIN_240607%E3%80%8D%E7%9A%84%E5%89%AF%E6%9C%AC.ipynb\" target=\"_parent\"><img src=\"https://colab.research.google.com/assets/colab-badge.svg\" alt=\"Open In Colab\"/></a>"
      ]
    },
    {
      "cell_type": "code",
      "source": [
        "send_line_notify(\"測試訊息\", token)\n"
      ],
      "metadata": {
        "id": "lLF1UtcQh52W",
        "outputId": "da2dddb2-4dac-4f0e-b7b6-2fba938853f0",
        "colab": {
          "base_uri": "https://localhost:8080/"
        }
      },
      "execution_count": null,
      "outputs": [
        {
          "output_type": "stream",
          "name": "stdout",
          "text": [
            "Line Notify 回應: {\"status\":200,\"message\":\"ok\"}\n"
          ]
        }
      ]
    },
    {
      "cell_type": "code",
      "source": [
        "import time\n",
        "from urllib import request, parse\n",
        "from bs4 import BeautifulSoup as sp\n",
        "from datetime import datetime\n",
        "import pytz\n",
        "\n",
        "# 設定價格\n",
        "set_price_jpy = \"0.2111\"  # 日幣到價通知\n",
        "set_price_usd = \"32.2\"  # 美金到價通知\n",
        "# Line Notify Token\n",
        "token = 'JqPcyMepDMsPay0VZ5PdESn9RShAzHIJQgEwCLMl0WN'\n",
        "\n",
        "def send_line_notify(message, token):\n",
        "    url = \"https://notify-api.line.me/api/notify\"\n",
        "    headers = {\n",
        "        \"Authorization\": f\"Bearer {token}\",\n",
        "        \"Content-Type\": \"application/x-www-form-urlencoded\"\n",
        "    }\n",
        "    data = {\"message\": message}\n",
        "    data = parse.urlencode(data).encode()\n",
        "    req = request.Request(url, data=data, headers=headers)\n",
        "    with request.urlopen(req) as response:\n",
        "        res = response.read().decode(\"utf-8\")\n",
        "    print(f\"Line Notify 回應: {res}\")\n",
        "\n",
        "# standard function\n",
        "def standard(jpy_out, usd_out, note):\n",
        "    if jpy_out == set_price_jpy or usd_out == set_price_usd:\n",
        "        send_line_notify(note, token)  # 將 note 發送\n",
        "    else:\n",
        "        print(f\"未達設定價格: 日幣當前價格 {jpy_out}，設定價格 {set_price_jpy}\")\n",
        "        print(f\"未達設定價格: 美金當前價格 {usd_out}，設定價格 {set_price_usd}\")\n",
        "\n",
        "# main function\n",
        "def main():\n",
        "    tz = pytz.timezone('Asia/Taipei')\n",
        "    while True:\n",
        "        current_time = datetime.now(tz)\n",
        "        current_hour = current_time.hour\n",
        "        if 9 <= current_hour < 17:  # 只在早上9點到下午5點之間檢查\n",
        "            local_time = current_time.ctime()\n",
        "            url = \"https://rate.bot.com.tw/xrt?Lang=zh-TW\"\n",
        "            with request.urlopen(url) as response:\n",
        "                data = response.read().decode(\"utf-8\")\n",
        "            root = sp(data, \"html.parser\")\n",
        "            jpy_in = root.find_all(\"td\")[78].text.strip()\n",
        "            jpy_out = root.find_all(\"td\")[79].text.strip()\n",
        "            usd_in = root.find_all(\"td\")[2].text.strip()\n",
        "            usd_out = root.find_all(\"td\")[3].text.strip()\n",
        "            s1 = (f\"\\njpy\\n銀行買進: {jpy_in}\\n銀行賣出: {jpy_out}\"\n",
        "                  f\"\\nusd\\n銀行買進: {usd_in}\\n銀行賣出: {usd_out}\\nBy Bruno\")  # 在銀行賣出價格後加上 \"By Bruno\"\n",
        "            note = local_time + s1\n",
        "            print(f\"當前時間: {local_time}\")\n",
        "            print(f\"銀行買進價格: 日幣 {jpy_in}, 日幣賣出價格: {jpy_out}\")\n",
        "            print(f\"銀行買進價格: 美金 {usd_in}, 美金賣出價格: {usd_out}\")\n",
        "            standard(jpy_out, usd_out, note)\n",
        "        else:\n",
        "            print(\"非檢查時間段內，暫停檢查\")\n",
        "        time.sleep(1800)  # 每半小時檢查一次\n",
        "\n",
        "if __name__ == \"__main__\":\n",
        "    main()\n"
      ],
      "metadata": {
        "id": "NoGVWoWMmEnM",
        "outputId": "9edaeeb6-775c-4c70-8dd7-3a7fa8ff53ad",
        "colab": {
          "base_uri": "https://localhost:8080/"
        }
      },
      "execution_count": null,
      "outputs": [
        {
          "output_type": "stream",
          "name": "stdout",
          "text": [
            "當前時間: Fri Jun  7 15:52:00 2024\n",
            "銀行買進價格: 日幣 0.1983, 日幣賣出價格: 0.2111\n",
            "銀行買進價格: 美金 32.52, 美金賣出價格: 32.2\n",
            "Line Notify 回應: {\"status\":200,\"message\":\"ok\"}\n"
          ]
        }
      ]
    }
  ]
}